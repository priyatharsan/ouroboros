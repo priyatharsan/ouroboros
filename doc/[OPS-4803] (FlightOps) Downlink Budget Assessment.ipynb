{
 "cells": [
  {
   "cell_type": "code",
   "execution_count": 47,
   "metadata": {
    "collapsed": false
   },
   "outputs": [
    {
     "name": "stdout",
     "output_type": "stream",
     "text": [
      "Using matplotlib backend: agg\n",
      "Populating the interactive namespace from numpy and matplotlib\n"
     ]
    },
    {
     "name": "stderr",
     "output_type": "stream",
     "text": [
      "WARNING: pylab import has clobbered these variables: ['ceil', 'log', 'floor']\n",
      "`%matplotlib` prevents importing * from pylab and numpy\n"
     ]
    }
   ],
   "source": [
    "%pylab\n",
    "%matplotlib inline\n",
    "\n",
    "from math import ceil, floor, log\n",
    "from fractions import gcd\n",
    "from collections import OrderedDict\n",
    "import datetime\n",
    "import json\n",
    "\n",
    "import mach\n",
    "\n",
    "pyplot.rcParams['figure.figsize'] = [12, 8]"
   ]
  },
  {
   "cell_type": "code",
   "execution_count": 48,
   "metadata": {
    "collapsed": false
   },
   "outputs": [],
   "source": [
    "MEGA = 1e6\n",
    "KILO = 1e3\n",
    "BYTE = 8#bits\n",
    "\n",
    "SECOND = datetime.timedelta(seconds=1)\n",
    "MINUTE = datetime.timedelta(minutes=1)\n",
    "WEEK = datetime.timedelta(days=7)\n",
    "MONTH = datetime.timedelta(days=30)\n",
    "\n",
    "NOW = datetime.datetime.utcnow()\n",
    "\n",
    "DATA_RATES = [16, 64]#kbits/s\n",
    "\n",
    "MAX_PACKET_SIZE = 2048#Bytes\n",
    "DWN_HEADER = 14#Bytes\n",
    "LSM_HEADER = 8#Bytes\n",
    "LSM_PADDING = lambda n: 16 * (n // 16 + 1)\n",
    "LSM_CIPHER = 4#Bytes\n",
    "\n",
    "APID = {\n",
    "    2: \"ENG_DWN_APID_2_NUM_PACKETS(?!_)\",\n",
    "    5: \"ENG_DWN_APID_5_NUM_PACKETS(?!_)\",\n",
    "    \"dump\": \"ENG_DWN_APID_DUMP_NUM_PACKETS(?!_)\"\n",
    "}\n",
    "\n",
    "FRAME_LENGTH = [64800, 16200]\n",
    "\n",
    "CODE_RATE = OrderedDict([\n",
    "    ((1, 4), [16008, 3072]),\n",
    "    ((1, 3), [21408, 5232]),\n",
    "    ((2, 5), [25728, 6312]),\n",
    "    ((1, 2), [32208, 7032]),\n",
    "    ((3, 5), [38688, 9552]),\n",
    "    ((2, 3), [43040, 10632]),\n",
    "    ((3, 4), [48408, 11712]),\n",
    "    ((4, 5), [51648, 12432]),\n",
    "    ((5, 6), [53840, 13152]),\n",
    "    ((8, 9), [57472, 14232]),\n",
    "    ((9, 10), [58192, 0])\n",
    "])\n",
    "\n",
    "DAC_FREQ = 135e6\n",
    "SYMBOL_RATE_INC = 0x55555555\n",
    "MODULATION = OrderedDict([\n",
    "    (\"QPSK\", 4),\n",
    "    (\"8-PSK\", 8),\n",
    "    (\"16-APSK\", 16),\n",
    "    (\"32-APSK\", 32)\n",
    "])\n",
    "\n",
    "SKYBOX_PREAMBLE = 36\n",
    "IMAGE_HEADER = 24\n",
    "CAN_MNEMONICS = {\n",
    "    \"RTI\": 16,\n",
    "    \"GPS_OFFSET\": 16,\n",
    "    \"ST_QW\": 2,\n",
    "    \"ST_QX\": 2,\n",
    "    \"ST_QY\": 2,\n",
    "    \"ST_QZ\": 2,\n",
    "    \"ST_TIMESTAMP_STATUS\": 2,\n",
    "    \"ST_EPOCH\": 2,\n",
    "    \"GPS_X\": 1,\n",
    "    \"GPS_Y\": 1,\n",
    "    \"GPS_Z\": 1,\n",
    "    \"GPS_VX\": 1,\n",
    "    \"GPS_VY\": 1,\n",
    "    \"GPS_VZ\": 1,\n",
    "    \"GPS_TIMESTAMP_AND_FLAGS\": 1,\n",
    "    \"RW_MOMENTUM_MEAS\": 16,\n",
    "    \"RW_TORQUE_MEAS\": 16,\n",
    "    \"RW_TORQUE\": 16,\n",
    "    \"MAG_CRITICAL_MSG_1\": 16,\n",
    "    \"MAG_CRITICAL_MSG_2\": 16,\n",
    "    \"MAG_CRITICAL_MSG_3\": 16,\n",
    "    \"MT_CRITICAL_MSG_1\": 16,\n",
    "    \"MT_CRITICAL_MSG_2\": 16,\n",
    "    \"MT_CRITICAL_CMD_1\": 16,\n",
    "    \"MT_CRITICAL_CMD_2\": 16,\n",
    "    \"GYRO_MEAS_PKT1\": 16,\n",
    "    \"GYRO_MEAS_PKT2\": 16,\n",
    "    \"ACS_TIME_RAW\": 4,\n",
    "    \"ACS_TIME_GPS\": 4,\n",
    "    \"ACS_POS_X\": 4,\n",
    "    \"ACS_POS_Y\": 4,\n",
    "    \"ACS_POS_Z\": 4,\n",
    "    \"ACS_VEL_X\": 4,\n",
    "    \"ACS_VEL_Y\": 4,\n",
    "    \"ACS_VEL_Z\": 4,\n",
    "    \"ACS_QUAT_W\": 4,\n",
    "    \"ACS_QUAT_X\": 4,\n",
    "    \"ACS_QUAT_Y\": 4,\n",
    "    \"ACS_QUAT_Z\": 4,\n",
    "    \"ACS_ANG_RATE_X\": 4,\n",
    "    \"ACS_ANG_RATE_Y\": 4,\n",
    "    \"ACS_ANG_RATE_Z\": 4,\n",
    "    \"ACS_POINTING_ERR\": 4,\n",
    "    \"PES_CAM_MTS\": 4,\n",
    "    \"EPB_MTS_3_0\": 4,\n",
    "    \"EPB_MTS_3_1\": 4,\n",
    "    \"EPB_MTS_3_2\": 4,\n",
    "    \"EPB_MTS_3_3\": 4,\n",
    "    \"EPB_MTS_3_4\": 4,\n",
    "    \"EPB_MTS_3_5\": 4,\n",
    "    \"EPB_MTS_3_6\": 4\n",
    "}"
   ]
  },
  {
   "cell_type": "code",
   "execution_count": 49,
   "metadata": {
    "collapsed": false
   },
   "outputs": [
    {
     "name": "stdout",
     "output_type": "stream",
     "text": [
      "||16 kbit/s||Packet (bytes)||Data rate (kbits/s)||Efficiency (%)||Packet rate (Hz)||10-min Pass (kB)||\n",
      "|1 byte(s)|38|0.421|2.63|52.63|31|\n",
      "|219 byte(s)|246|14.244|89.02|8.13|1068|\n",
      "|475 byte(s)|502|15.139|94.62|3.98|1135|\n",
      "|731 byte(s)|758|15.430|96.44|2.64|1157|\n",
      "|987 byte(s)|1014|15.574|97.34|1.97|1168|\n",
      "|1243 byte(s)|1270|15.660|97.87|1.57|1174|\n",
      "|1499 byte(s)|1526|15.717|98.23|1.31|1178|\n",
      "|1755 byte(s)|1782|15.758|98.48|1.12|1181|\n",
      "|2011 byte(s)|2038|15.788|98.68|0.98|1184|\n",
      "\n",
      "||64 kbit/s||Packet (bytes)||Data rate (kbits/s)||Efficiency (%)||Packet rate (Hz)||10-min Pass (kB)||\n",
      "|1 byte(s)|38|1.684|2.63|210.53|126|\n",
      "|219 byte(s)|246|56.976|89.02|32.52|4273|\n",
      "|475 byte(s)|502|60.558|94.62|15.94|4541|\n",
      "|731 byte(s)|758|61.720|96.44|10.55|4629|\n",
      "|987 byte(s)|1014|62.296|97.34|7.89|4672|\n",
      "|1243 byte(s)|1270|62.639|97.87|6.30|4697|\n",
      "|1499 byte(s)|1526|62.868|98.23|5.24|4715|\n",
      "|1755 byte(s)|1782|63.030|98.48|4.49|4727|\n",
      "|2011 byte(s)|2038|63.152|98.68|3.93|4736|\n",
      "\n"
     ]
    }
   ],
   "source": [
    "data = array([1, 219, 475, 731, 987, 1243, 1499, 1755, 2011], dtype=float)\n",
    "packets = DWN_HEADER + LSM_HEADER + LSM_PADDING(data + LSM_CIPHER)\n",
    "\n",
    "for r in DATA_RATES:\n",
    "    print \"||\".join([\"\",\n",
    "                     \"%d kbit/s\",\n",
    "                     \"Packet (bytes)\",\n",
    "                     \"Data rate (kbits/s)\",\n",
    "                     \"Efficiency (%%)\",\n",
    "                     \"Packet rate (Hz)\",\n",
    "                     \"10-min Pass (kB)\",\n",
    "                     \"\"]) % r\n",
    "    \n",
    "    for i in range(len(data)):\n",
    "        print \"|\".join([\"\",\n",
    "                        \"%d byte(s)\",\n",
    "                        \"%d\",\n",
    "                        \"%.3f\",\n",
    "                        \"%4.2f\",\n",
    "                        \"%4.2f\",\n",
    "                        \"%d\",\n",
    "                        \"\"]) % (data[i], packets[i],\n",
    "                               r * (data[i] / packets[i]),\n",
    "                               (data[i] / packets[i]) * 100,\n",
    "                               (KILO * r) / (BYTE * packets[i]),\n",
    "                               floor(10 * MINUTE.total_seconds() * data[i] *\\\n",
    "                                     (KILO * r) /\\\n",
    "                                     (BYTE * packets[i]) / KILO))\n",
    "    print"
   ]
  },
  {
   "cell_type": "code",
   "execution_count": 50,
   "metadata": {
    "collapsed": false
   },
   "outputs": [
    {
     "name": "stdout",
     "output_type": "stream",
     "text": [
      "10166 354 7877\n"
     ]
    }
   ],
   "source": [
    "with open(\"./ss-1_tele_dict.json\", \"r\") as fin:\n",
    "    tele = json.load(fin)\n",
    "    \n",
    "rates = set([t[\"packet_rate\"] \\\n",
    "             for t in tele \\\n",
    "             if t[\"packet_rate\"] != 0])\n",
    "    \n",
    "packet_rate = {r: sum([(2+t[\"type_size\"]) \\\n",
    "                       for t in tele \\\n",
    "                       if t[\"packet_rate\"] == r]) \\\n",
    "               for r in rates}\n",
    "delta_incl =  sum([(2+t[\"type_size\"]) \\\n",
    "                   for t in tele \\\n",
    "                   if t[\"delta_incl\"] != 0])\n",
    "range_incl = sum([(2+t[\"type_size\"]) \\\n",
    "                  for t in tele \\\n",
    "                  if t[\"range_incl\"] != 0])\n",
    "write_incl = sum([(2+t[\"type_size\"]) \\\n",
    "                  for t in tele \\\n",
    "                  if t[\"write_incl\"] != 0])\n",
    "\n",
    "print delta_incl, range_incl, write_incl"
   ]
  },
  {
   "cell_type": "code",
   "execution_count": 51,
   "metadata": {
    "collapsed": false
   },
   "outputs": [],
   "source": [
    "lcm = reduce(lambda a,b: a * b / gcd(a, b), rates)\n",
    "\n",
    "percent = 0.084\n",
    "n = arange(lcm)\n",
    "total = sum(array([packet_rate[r] * (n % r == 0) \\\n",
    "                   for r in packet_rate]), 0)"
   ]
  },
  {
   "cell_type": "code",
   "execution_count": 52,
   "metadata": {
    "collapsed": false
   },
   "outputs": [],
   "source": [
    "eng = mach.eng.read(1, APID.values(),\n",
    "                    t_sc=(NOW - MONTH, NOW))"
   ]
  },
  {
   "cell_type": "code",
   "execution_count": 53,
   "metadata": {
    "collapsed": false,
    "scrolled": false
   },
   "outputs": [],
   "source": [
    "apid_rate = {}\n",
    "\n",
    "apid = eng[APID[2]]\n",
    "\n",
    "r = [(apid.y[i+1] - apid.y[j]) / (apid.t[j] - apid.t[i+1]).total_seconds() \\\n",
    "     for i in range(1, len(apid.t)-1) \\\n",
    "     if apid.y[i+1] < apid.y[i] > apid.y[i-1] \\\n",
    "     for j in range(i+1, len(apid.t)-1) \\\n",
    "     if apid.y[i+1] > apid.y[j] > apid.y[j+1] == 0 \\\n",
    "     and 0 < (apid.t[j] - apid.t[i+1]).total_seconds() < 120]\n",
    "\n",
    "apid_rate[2] = average(r)"
   ]
  },
  {
   "cell_type": "code",
   "execution_count": 54,
   "metadata": {
    "collapsed": false
   },
   "outputs": [],
   "source": [
    "apid = eng[APID[5]]\n",
    "\n",
    "r = [(apid.y[i+1] - apid.y[j]) / (apid.t[j] - apid.t[i+1]).total_seconds() \\\n",
    "     for i in range(1, len(apid.t)-1) \\\n",
    "     if apid.y[i+1] < apid.y[i] > apid.y[i-1] \\\n",
    "     for j in range(i+1, len(apid.t)-1) \\\n",
    "     if apid.y[i+1] > apid.y[j] > apid.y[j+1] == 0 \\\n",
    "     and 0 < (apid.t[j] - apid.t[i+1]).total_seconds() <= 10]\n",
    "\n",
    "apid_rate[5] = average(r)"
   ]
  },
  {
   "cell_type": "code",
   "execution_count": 55,
   "metadata": {
    "collapsed": true
   },
   "outputs": [],
   "source": [
    "apid = eng[APID[\"dump\"]]\n",
    "\n",
    "r = [(apid.y[i+1] - apid.y[j]) / (apid.t[j] - apid.t[i+1]).total_seconds() \\\n",
    "     for i in range(1, len(apid.t)-1) \\\n",
    "     if apid.y[i+1] < apid.y[i] > apid.y[i-1] \\\n",
    "     and apid.y[i] > 500 \\\n",
    "     for j in range(i+1, len(apid.t)-1) \\\n",
    "     if apid.y[i+1] > apid.y[j] > apid.y[j+1] == 0 \\\n",
    "     and 2*60 < (apid.t[j] - apid.t[i+1]).total_seconds() <= 4*60]\n",
    "\n",
    "apid_rate[\"dump\"] = average(r)"
   ]
  },
  {
   "cell_type": "code",
   "execution_count": 56,
   "metadata": {
    "collapsed": false
   },
   "outputs": [],
   "source": [
    "apid_packet = {}\n",
    "\n",
    "apid_packet[2] = int(LSM_PADDING((KILO * DATA_RATES[1]) / apid_rate[2] / BYTE -\\\n",
    "                                 (DWN_HEADER + LSM_HEADER)) - LSM_CIPHER - 1)\n",
    "apid_packet[5] = int(LSM_PADDING((KILO * DATA_RATES[1]) / apid_rate[5] / BYTE -\\\n",
    "                                 (DWN_HEADER + LSM_HEADER)) - LSM_CIPHER - 1)\n",
    "apid_packet[\"dump\"] = int(LSM_PADDING((KILO * DATA_RATES[1]) / apid_rate[\"dump\"] / BYTE -\\\n",
    "                                      (DWN_HEADER + LSM_HEADER)) - LSM_CIPHER - 1)\n",
    "\n",
    "\n",
    "percent = (apid_packet[2] - average(total)) / (delta_incl + range_incl + write_incl)"
   ]
  },
  {
   "cell_type": "code",
   "execution_count": 57,
   "metadata": {
    "collapsed": false,
    "scrolled": false
   },
   "outputs": [
    {
     "data": {
      "text/plain": [
       "<matplotlib.lines.Line2D at 0x4ddc610>"
      ]
     },
     "execution_count": 57,
     "metadata": {},
     "output_type": "execute_result"
    },
    {
     "data": {
      "image/png": "[encoded data removed]",
      "text/plain": [
       "<matplotlib.figure.Figure at 0x4ddc750>"
      ]
     },
     "metadata": {},
     "output_type": "display_data"
    }
   ],
   "source": [
    "plot(n, total + percent * (delta_incl + range_incl + write_incl), \"b.\")\n",
    "xlabel(\"Packet generated (#)\")\n",
    "ylabel(\"Packet size (B)\")\n",
    "axhline(2011, 0, 1, color=\"r\")"
   ]
  },
  {
   "cell_type": "code",
   "execution_count": 58,
   "metadata": {
    "collapsed": false
   },
   "outputs": [],
   "source": [
    "apid_gen = {}\n",
    "\n",
    "apid_gen[2] = 1 / 45."
   ]
  },
  {
   "cell_type": "code",
   "execution_count": 59,
   "metadata": {
    "collapsed": false
   },
   "outputs": [],
   "source": [
    "apid = eng[APID[5]]\n",
    "\n",
    "r = [(apid.y[i-1] - apid.y[j+1]) / (apid.t[i-1] - apid.t[j+1]).total_seconds() \\\n",
    "     for i in range(1, len(apid.t)-1) \\\n",
    "     if apid.y[i+1] < apid.y[i] > apid.y[i-1] \\\n",
    "     and 1800 > apid.y[i] > 200 \\\n",
    "     for j in range(i-2, 0, -1) \\\n",
    "     if apid.y[j+1] > apid.y[j] == 0 \\\n",
    "     and 60*60 < (apid.t[i-1] - apid.t[j+1]).total_seconds() <= 90*60]\n",
    "\n",
    "apid_gen[5] = average(r)"
   ]
  },
  {
   "cell_type": "code",
   "execution_count": 60,
   "metadata": {
    "collapsed": true
   },
   "outputs": [],
   "source": [
    "apid = eng[APID[\"dump\"]]\n",
    "\n",
    "r = [(apid.y[i-1] - apid.y[j+1]) / (apid.t[i-1] - apid.t[j+1]).total_seconds() \\\n",
    "     for i in range(1, len(apid.t)-1) \\\n",
    "     if apid.y[i+1] < apid.y[i] > apid.y[i-1] \\\n",
    "     and apid.y[i] > 1000 \\\n",
    "     for j in range(i-2, 0, -1) \\\n",
    "     if apid.y[j+1] > apid.y[j] == 0 \\\n",
    "     and 60*60 < (apid.t[i-1] - apid.t[j+1]).total_seconds() <= 90*60]\n",
    "\n",
    "apid_gen[\"dump\"] = average(r)"
   ]
  },
  {
   "cell_type": "code",
   "execution_count": 61,
   "metadata": {
    "collapsed": false
   },
   "outputs": [
    {
     "name": "stdout",
     "output_type": "stream",
     "text": [
      "||APID||Packet (bytes)||Packet rate (1/s)||100-min Orbit (B)||Queue (B)||Utilized (%)||\n",
      "|2|1787|0.022|237671|789512|30.10|\n",
      "|5|283|0.212|359693|81008|444.02|\n",
      "|dump|379|0.572|1299970|1045001|124.40|\n",
      "\n"
     ]
    }
   ],
   "source": [
    "apid_queue = {\n",
    "    2: 789512,\n",
    "    5: 81008,\n",
    "    \"dump\": 1045001\n",
    "}\n",
    "\n",
    "print \"||\".join([\"\",\n",
    "                 \"APID\",\n",
    "                 \"Packet (bytes)\",\n",
    "                 \"Packet rate (1/s)\",\n",
    "                 \"100-min Orbit (B)\",\n",
    "                 \"Queue (B)\",\n",
    "                 \"Utilized (%%)\",\n",
    "                 \"\"]) % r\n",
    "\n",
    "for key in APID:\n",
    "    print \"|\".join([\"\",\n",
    "                    \"%s\",\n",
    "                    \"%d\",\n",
    "                    \"%.3f\",\n",
    "                    \"%d\",\n",
    "                    \"%d\",\n",
    "                    \"%4.2f\",\n",
    "                    \"\"]) % (key,\n",
    "                           apid_packet[key],\n",
    "                           apid_gen[key],\n",
    "                           apid_packet[key] *\\\n",
    "                           floor(100 * MINUTE.total_seconds() * apid_gen[key]),\n",
    "                           apid_queue[key],\n",
    "                           100 * apid_packet[key] *\\\n",
    "                           floor(100 * MINUTE.total_seconds() * apid_gen[key]) /\\\n",
    "                           apid_queue[key])\n",
    "print"
   ]
  },
  {
   "cell_type": "code",
   "execution_count": 69,
   "metadata": {
    "collapsed": false
   },
   "outputs": [
    {
     "name": "stdout",
     "output_type": "stream",
     "text": [
      "||64800||Bit rate (Mb/s)||[Raw] frame rate(Hz)||10-min pass (#)||\n",
      "|QPSK (1/4)|21.54|0.32|189|\n",
      "|QPSK (1/3)|28.84|0.42|253|\n",
      "|QPSK (2/5)|34.68|0.51|305|\n",
      "|QPSK (1/2)|43.44|0.64|382|\n",
      "|QPSK (3/5)|52.20|0.77|459|\n",
      "|QPSK (2/3)|58.09|0.85|511|\n",
      "|QPSK (3/4)|65.34|0.96|574|\n",
      "|QPSK (4/5)|69.72|1.02|613|\n",
      "|QPSK (5/6)|72.69|1.07|639|\n",
      "|QPSK (8/9)|77.60|1.14|682|\n",
      "|QPSK (9/10)|78.57|1.15|691|\n",
      "|8-PSK (1/4)|32.30|0.47|284|\n",
      "|8-PSK (1/3)|43.24|0.63|380|\n",
      "|8-PSK (2/5)|52.00|0.76|457|\n",
      "|8-PSK (1/2)|65.14|0.96|573|\n",
      "|8-PSK (3/5)|78.28|1.15|688|\n",
      "|8-PSK (2/3)|87.10|1.28|766|\n",
      "|8-PSK (3/4)|97.99|1.44|862|\n",
      "|8-PSK (4/5)|104.56|1.53|920|\n",
      "|8-PSK (5/6)|109.00|1.60|959|\n",
      "|8-PSK (8/9)|116.37|1.71|1023|\n",
      "|8-PSK (9/10)|117.83|1.73|1036|\n",
      "|16-APSK (1/4)|42.96|0.63|377|\n",
      "|16-APSK (1/3)|57.52|0.84|506|\n",
      "|16-APSK (2/5)|69.17|1.01|608|\n",
      "|16-APSK (1/2)|86.65|1.27|762|\n",
      "|16-APSK (3/5)|104.12|1.53|916|\n",
      "|16-APSK (2/3)|115.86|1.70|1019|\n",
      "|16-APSK (3/4)|130.33|1.91|1146|\n",
      "|16-APSK (4/5)|139.07|2.04|1223|\n",
      "|16-APSK (5/6)|144.98|2.13|1275|\n",
      "|16-APSK (8/9)|154.78|2.27|1361|\n",
      "|16-APSK (9/10)|156.72|2.30|1379|\n",
      "|32-APSK (1/4)|53.74|0.79|472|\n",
      "|32-APSK (1/3)|71.96|1.06|633|\n",
      "|32-APSK (2/5)|86.53|1.27|761|\n",
      "|32-APSK (1/2)|108.39|1.59|953|\n",
      "|32-APSK (3/5)|130.26|1.91|1146|\n",
      "|32-APSK (2/3)|144.94|2.13|1275|\n",
      "|32-APSK (3/4)|163.05|2.39|1434|\n",
      "|32-APSK (4/5)|173.98|2.55|1530|\n",
      "|32-APSK (5/6)|181.38|2.66|1596|\n",
      "|32-APSK (8/9)|193.63|2.84|1703|\n",
      "|32-APSK (9/10)|196.06|2.88|1725|\n",
      "\n",
      "||16200||Bit rate (Mb/s)||[Raw] frame rate(Hz)||10-min pass (#)||\n",
      "|QPSK (1/4)|16.09|0.24|141|\n",
      "|QPSK (1/3)|27.70|0.41|243|\n",
      "|QPSK (2/5)|33.51|0.49|294|\n",
      "|QPSK (1/2)|37.38|0.55|328|\n",
      "|QPSK (3/5)|50.92|0.75|448|\n",
      "|QPSK (2/3)|56.73|0.83|499|\n",
      "|QPSK (3/4)|62.54|0.92|550|\n",
      "|QPSK (4/5)|66.41|0.97|584|\n",
      "|QPSK (5/6)|70.28|1.03|618|\n",
      "|QPSK (8/9)|76.09|1.12|669|\n",
      "|8-PSK (1/4)|24.05|0.35|211|\n",
      "|8-PSK (1/3)|41.41|0.61|364|\n",
      "|8-PSK (2/5)|50.10|0.73|440|\n",
      "|8-PSK (1/2)|55.88|0.82|491|\n",
      "|8-PSK (3/5)|76.14|1.12|670|\n",
      "|8-PSK (2/3)|84.82|1.24|746|\n",
      "|8-PSK (3/4)|93.50|1.37|822|\n",
      "|8-PSK (4/5)|99.29|1.46|873|\n",
      "|8-PSK (5/6)|105.08|1.54|924|\n",
      "|8-PSK (8/9)|113.76|1.67|1001|\n",
      "|16-APSK (1/4)|31.97|0.47|281|\n",
      "|16-APSK (1/3)|55.04|0.81|484|\n",
      "|16-APSK (2/5)|66.58|0.98|585|\n",
      "|16-APSK (1/2)|74.27|1.09|653|\n",
      "|16-APSK (3/5)|101.20|1.48|890|\n",
      "|16-APSK (2/3)|112.74|1.65|992|\n",
      "|16-APSK (3/4)|124.27|1.82|1093|\n",
      "|16-APSK (4/5)|131.97|1.94|1161|\n",
      "|16-APSK (5/6)|139.66|2.05|1228|\n",
      "|16-APSK (8/9)|151.20|2.22|1330|\n",
      "|32-APSK (1/4)|39.58|0.58|348|\n",
      "|32-APSK (1/3)|68.15|1.00|599|\n",
      "|32-APSK (2/5)|82.43|1.21|725|\n",
      "|32-APSK (1/2)|91.96|1.35|809|\n",
      "|32-APSK (3/5)|125.29|1.84|1102|\n",
      "|32-APSK (2/3)|139.58|2.05|1228|\n",
      "|32-APSK (3/4)|153.86|2.26|1353|\n",
      "|32-APSK (4/5)|163.39|2.40|1437|\n",
      "|32-APSK (5/6)|172.91|2.54|1521|\n",
      "|32-APSK (8/9)|187.20|2.75|1647|\n",
      "\n"
     ]
    }
   ],
   "source": [
    "Rs = DAC_FREQ * (SYMBOL_RATE_INC - 0.5) / 2**32\n",
    "P = 36\n",
    "\n",
    "image_header = (SKYBOX_PREAMBLE + IMAGE_HEADER + 12 * len(CAN_MNEMONICS)) * BYTE\n",
    "frame_size = 32 +\\\n",
    "    (2560 + 32) * (2160 + 32) * 12 +\\\n",
    "    32\n",
    "crc = 4 * BYTE\n",
    "\n",
    "packet_size = image_header + frame_size + crc\n",
    "#packet_size = (packet_size / 183 + 1) * 188\n",
    "    \n",
    "for i, L in enumerate(FRAME_LENGTH):\n",
    "    print \"||\".join([\"\",\n",
    "                     \"%d\",\n",
    "                     \"Bit rate (Mb/s)\",\n",
    "                     \"[Raw] frame rate (Hz)\",\n",
    "                     \"10-min pass (#)\",\n",
    "                     \"\"]) % L\n",
    "    for j in MODULATION:\n",
    "        M = MODULATION[j]\n",
    "        \n",
    "        eta_mod = log(M) / log(2)\n",
    "\n",
    "        S = L / eta_mod / 90\n",
    "        \n",
    "        eta_frame = 90 * S / (90 * (S + 1) + P * floor((S - 1) / 16))\n",
    "        \n",
    "        for k in CODE_RATE:\n",
    "            eta_code = (CODE_RATE[k][i] - 80.) / L\n",
    "            \n",
    "            eta = eta_mod * eta_frame * eta_code\n",
    "            \n",
    "            if 0 < eta:\n",
    "                print \"|%s (%d/%d)|%4.2f|%4.2f|%d|\" % (j, k[0], k[1],\n",
    "                                                    eta * Rs / MEGA,\n",
    "                                                    eta * Rs / packet_size,\n",
    "                                                    floor(10 * MINUTE.total_seconds() * \\\n",
    "                                                          eta * Rs / packet_size))\n",
    "    \n",
    "    print"
   ]
  },
  {
   "cell_type": "code",
   "execution_count": null,
   "metadata": {
    "collapsed": true
   },
   "outputs": [],
   "source": []
  }
 ],
 "metadata": {
  "kernelspec": {
   "display_name": "Python 2",
   "language": "python",
   "name": "python2"
  },
  "language_info": {
   "codemirror_mode": {
    "name": "ipython",
    "version": 2
   },
   "file_extension": ".py",
   "mimetype": "text/x-python",
   "name": "python",
   "nbconvert_exporter": "python",
   "pygments_lexer": "ipython2",
   "version": "2.7.3"
  }
 },
 "nbformat": 4,
 "nbformat_minor": 0
}
